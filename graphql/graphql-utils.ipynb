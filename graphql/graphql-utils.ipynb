{
 "cells": [
  {
   "cell_type": "code",
   "execution_count": null,
   "metadata": {
    "is_executing": true
   },
   "outputs": [],
   "source": [
    "import requests\n",
    "import os\n",
    "from flask import Flask\n",
    "from dotenv import load_dotenv\n",
    "load_dotenv()"
   ]
  },
  {
   "cell_type": "code",
   "execution_count": null,
   "metadata": {},
   "outputs": [],
   "source": [
    "query_actor = \"\"\"query Actor {\n",
    "    actor(where: {id: \"clrgc0jejnxgq0cuweyp1g4vl\"}) {\n",
    "    name\n",
    "    biography\n",
    "    photo {\n",
    "      id\n",
    "    }\n",
    "    episodes {\n",
    "      id\n",
    "      shows {\n",
    "        id\n",
    "      }\n",
    "    }\n",
    "  }\n",
    "}\n",
    "\"\"\""
   ]
  },
  {
   "cell_type": "code",
   "execution_count": null,
   "metadata": {},
   "outputs": [],
   "source": [
    "url = os.getenv(\"URL\")\n",
    "token = os.getenv(\"HYGRAPH_TOKEN\")\n",
    "headers = {\"Authorization\": f\"Bearer {token}\"}\n",
    "app = Flask(__name__)\n",
    "\n",
    "@app.route(\"/get_actor\")\n",
    "def get_actor():\n",
    "    payload = {\"query\": query_actor}\n",
    "    r = requests.post(url, json=payload, headers=headers)\n",
    "    json_data = r.json()\n",
    "    return {\"response\": json_data}\n",
    "\n",
    "app.run()"
   ]
  }
 ],
 "metadata": {
  "kernelspec": {
   "display_name": "Python 3",
   "language": "python",
   "name": "python3"
  },
  "language_info": {
   "codemirror_mode": {
    "name": "ipython",
    "version": 3
   },
   "file_extension": ".py",
   "mimetype": "text/x-python",
   "name": "python",
   "nbconvert_exporter": "python",
   "pygments_lexer": "ipython3",
   "version": "3.11.5"
  }
 },
 "nbformat": 4,
 "nbformat_minor": 0
}
